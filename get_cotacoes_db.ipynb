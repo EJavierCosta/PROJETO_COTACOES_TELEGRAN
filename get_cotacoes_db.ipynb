{
 "cells": [
  {
   "cell_type": "code",
   "execution_count": 0,
   "metadata": {
    "application/vnd.databricks.v1+cell": {
     "cellMetadata": {
      "byteLimit": 2048000,
      "rowLimit": 10000
     },
     "inputWidgets": {},
     "nuid": "c2008b54-47ea-4be5-8656-5a8638c05d90",
     "showTitle": false,
     "tableResultSettingsMap": {},
     "title": ""
    }
   },
   "outputs": [],
   "source": [
    "import requests\n",
    "import os\n",
    "from pyspark.sql.types import StructType, StructField, StringType, DoubleType, LongType\n",
    "from pyspark.sql.functions import to_timestamp\n",
    "\n",
    "# Se estiver usando secrets do Databricks, substitua por dbutils.secrets.get\n",
    "token = dbutils.secrets.get(scope=\"meu-escopo\", key=\"token_brapi\")\n",
    "\n",
    "url = f\"https://brapi.dev/api/quote/UNIP6?token={token}\"\n",
    "#header = {\"Authorization\": f\"Bearer {token}\"}\n",
    "\n",
    "response = requests.get(\n",
    "    url,\n",
    "    #headers=header,\n",
    "    params={\"range\": \"1d\", \"interval\": \"1d\"}\n",
    ")\n",
    "\n",
    "if response.status_code == 200:\n",
    "    dados_brapi = response.json()[\"results\"][0]\n",
    "\n",
    "    # Define o schema\n",
    "    schema = StructType([\n",
    "        StructField(\"Simbolo\", StringType(), True),\n",
    "        StructField(\"Nome\", StringType(), True),\n",
    "        StructField(\"Moeda\", StringType(), True),\n",
    "        StructField(\"Fechamento_Anterior\", DoubleType(), True),\n",
    "        StructField(\"Cotacao\", DoubleType(), True),\n",
    "        StructField(\"Intervalo_52_Semanas\", StringType(), True),\n",
    "        StructField(\"Data\", StringType(), True)\n",
    "    ])\n",
    "\n",
    "    # Cria o DataFrame Spark\n",
    "    data = [(dados_brapi[\"symbol\"],\n",
    "             dados_brapi[\"shortName\"],\n",
    "             dados_brapi[\"currency\"],\n",
    "             dados_brapi[\"regularMarketPreviousClose\"],\n",
    "             dados_brapi[\"regularMarketPrice\"],\n",
    "             dados_brapi[\"fiftyTwoWeekRange\"],\n",
    "             dados_brapi[\"regularMarketTime\"])]\n",
    "\n",
    "    df_spark = spark.createDataFrame(data, schema)\n",
    "    (df_spark.write\n",
    "             .format(\"delta\")\n",
    "             .mode(\"append\")\n",
    "             .saveAsTable(\"raw.db.cotacoes\")\n",
    "             )\n",
    "    \n",
    "    print(f\"Coleta realizada com sucesso, status code: {response.status_code}\")\n",
    "    display(df_spark)\n",
    "   \n",
    "else:\n",
    "    print(f\"Erro: {response.status_code}\")\n",
    "   "
   ]
  },
  {
   "cell_type": "code",
   "execution_count": 0,
   "metadata": {
    "application/vnd.databricks.v1+cell": {
     "cellMetadata": {
      "byteLimit": 2048000,
      "rowLimit": 10000
     },
     "inputWidgets": {},
     "nuid": "378faba9-b97a-42e5-93d4-fea9880e4d47",
     "showTitle": false,
     "tableResultSettingsMap": {},
     "title": ""
    }
   },
   "outputs": [],
   "source": [
    "dbutils.secrets.listScopes()"
   ]
  },
  {
   "cell_type": "code",
   "execution_count": 0,
   "metadata": {
    "application/vnd.databricks.v1+cell": {
     "cellMetadata": {
      "byteLimit": 2048000,
      "rowLimit": 10000
     },
     "inputWidgets": {},
     "nuid": "5d3ae394-24f9-447e-a87f-020a9cbd1229",
     "showTitle": false,
     "tableResultSettingsMap": {},
     "title": ""
    }
   },
   "outputs": [],
   "source": [
    "dbutils.secrets.list(\"meu-escopo\")\n"
   ]
  }
 ],
 "metadata": {
  "application/vnd.databricks.v1+notebook": {
   "computePreferences": null,
   "dashboards": [],
   "environmentMetadata": {
    "base_environment": "",
    "environment_version": "3"
   },
   "inputWidgetPreferences": null,
   "language": "python",
   "notebookMetadata": {
    "pythonIndentUnit": 4
   },
   "notebookName": "get_cotacoes_db",
   "widgets": {}
  },
  "language_info": {
   "name": "python"
  }
 },
 "nbformat": 4,
 "nbformat_minor": 0
}
