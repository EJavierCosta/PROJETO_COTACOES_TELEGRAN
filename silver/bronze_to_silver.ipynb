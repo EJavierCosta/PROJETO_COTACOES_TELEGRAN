{
 "cells": [
  {
   "cell_type": "code",
   "execution_count": 0,
   "metadata": {
    "application/vnd.databricks.v1+cell": {
     "cellMetadata": {},
     "inputWidgets": {},
     "nuid": "700d4d20-6976-4c12-9b6b-73be1db7d0e4",
     "showTitle": false,
     "tableResultSettingsMap": {},
     "title": ""
    }
   },
   "outputs": [],
   "source": [
    "import sys\n",
    "sys.path.insert(0, \"../lib/\")\n",
    "import ingestores\n",
    "import utils\n",
    "\n",
    "\n",
    "tabela = dbutils.widgets.get(\"tabela\")\n",
    "#tabela =\"cotacoes\"\n",
    "schema = \"cotacoes_silver\"\n",
    "catalog = \"prod\"\n",
    "checkpointpath = f\"/Volumes/transacional/cotacoes_db/checkpoint/checkpoint_silver_{tabela}\"\n",
    "dbpath = f\"prod.cotacoes_silver.{tabela}\"\n",
    "\n",
    "query = utils.import_query(f\"{tablename}.sql\")\n",
    "if not spark.catalog.tableExists(f\"{catalog}.{schema}.{tabela}\"):\n",
    "\n",
    "        print(\"Tabela não existente, criando.\")\n",
    "        dbutils.fs.rm(checkpointpath, recurse=True)\n",
    "        (spark.sql(query)\n",
    "              .writeTo(f\"{self.catalog}.{self.schema}.{self.tabela}\")   \n",
    "              .tableProperty(\"delta.autoOptimize.optimizeWrite\", \"true\")\n",
    "              .tableProperty(\"delta.autoOptimize.autoCompact\", \"true\")\n",
    "              .tableProperty(\"delta.enableChangeDataFeed\", \"true\")\n",
    "              .using(\"delta\") \n",
    "              .createOrReplace()\n",
    "              )     \n",
    "        \n",
    "else:\n",
    "        print(\"Tabela já existente, ignorando FULL LOAD\")\n",
    "        ingestao_cdc = ingestores.ingestaoCDC(spark, tabela, schema, catalog, dbpath, checkpointpath)\n",
    "        ingestao_cdc.runCDC()"
   ]
  }
 ],
 "metadata": {
  "application/vnd.databricks.v1+notebook": {
   "computePreferences": null,
   "dashboards": [],
   "environmentMetadata": {
    "base_environment": "",
    "environment_version": "3"
   },
   "inputWidgetPreferences": null,
   "language": "python",
   "notebookMetadata": {
    "pythonIndentUnit": 4
   },
   "notebookName": "bronze_to_silver",
   "widgets": {}
  },
  "language_info": {
   "name": "python"
  }
 },
 "nbformat": 4,
 "nbformat_minor": 0
}
