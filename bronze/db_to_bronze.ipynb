{
 "cells": [
  {
   "cell_type": "code",
   "execution_count": 0,
   "metadata": {
    "application/vnd.databricks.v1+cell": {
     "cellMetadata": {
      "byteLimit": 2048000,
      "rowLimit": 10000
     },
     "inputWidgets": {},
     "nuid": "fe892c8d-b131-403f-8491-6366463a811d",
     "showTitle": true,
     "tableResultSettingsMap": {},
     "title": "IMPORTS"
    }
   },
   "outputs": [],
   "source": [
    "import sys\n",
    "sys.path.insert(0, \"../lib/\")\n",
    "import ingestores\n",
    "\n",
    "\n",
    "# tabela = dbutils.widgets.get(\"tabela\")\n",
    "tabela =\"cotacoes\"\n",
    "schema = \"cotacoes_bronze\"\n",
    "catalog = \"prod\"\n",
    "checkpointpath = f\"/Volumes/transacional/cotacoes_db/checkpoint/checkpoint_{tabela}\"\n",
    "dbpath = f\"transacional.cotacoes_db.{tabela}\"\n",
    "\n",
    "\n",
    "if not spark.catalog.tableExists(f\"{catalog}.{schema}.{tabela}\"):\n",
    "\n",
    "        print(\"Tabela não existente, criando.\")\n",
    "        dbutils.fs.rm(checkpointpath, recurse=True)  \n",
    "        ingestao_full_load = ingestores.ingestao(spark, tabela, schema, catalog, dbpath)\n",
    "        \n",
    "        if ingestao_full_load.run():\n",
    "                print(\"Tabela criada com sucesso!\")\n",
    "        else:\n",
    "                print(\"Falha ao criar tabela!\")\n",
    "\n",
    "else:\n",
    "        print(\"Tabela já existente, ignorando FULL LOAD\")\n",
    "        ingestao_cdc = ingestores.ingestaoCDC(spark, tabela, schema, catalog, dbpath, checkpointpath)\n",
    "        ingestao_cdc.runCDC()"
   ]
  }
 ],
 "metadata": {
  "application/vnd.databricks.v1+notebook": {
   "computePreferences": {
    "hardware": {
     "accelerator": null,
     "gpuPoolId": null,
     "memory": null
    }
   },
   "dashboards": [],
   "environmentMetadata": {
    "base_environment": "",
    "environment_version": "3"
   },
   "inputWidgetPreferences": null,
   "language": "python",
   "notebookMetadata": {
    "mostRecentlyExecutedCommandWithImplicitDF": {
     "commandId": 7901972089961355,
     "dataframes": [
      "_sqldf"
     ]
    },
    "pythonIndentUnit": 4
   },
   "notebookName": "db_to_bronze",
   "widgets": {}
  },
  "language_info": {
   "name": "python"
  }
 },
 "nbformat": 4,
 "nbformat_minor": 0
}
