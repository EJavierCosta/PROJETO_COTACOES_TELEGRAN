{
 "cells": [
  {
   "cell_type": "code",
   "execution_count": 0,
   "metadata": {
    "application/vnd.databricks.v1+cell": {
     "cellMetadata": {
      "byteLimit": 2048000,
      "rowLimit": 10000
     },
     "inputWidgets": {},
     "nuid": "fe892c8d-b131-403f-8491-6366463a811d",
     "showTitle": true,
     "tableResultSettingsMap": {},
     "title": "IMPORTS"
    }
   },
   "outputs": [],
   "source": [
    "import delta"
   ]
  },
  {
   "cell_type": "code",
   "execution_count": 0,
   "metadata": {
    "application/vnd.databricks.v1+cell": {
     "cellMetadata": {
      "byteLimit": 2048000,
      "rowLimit": 10000
     },
     "inputWidgets": {},
     "nuid": "6b5d9700-f5b7-487e-92a3-e8a2025c2d12",
     "showTitle": true,
     "tableResultSettingsMap": {},
     "title": "SETUP"
    }
   },
   "outputs": [],
   "source": [
    "tabela = dbutils.widgets.get(\"tabela\")\n",
    "#tabela =\"cotacoes\"\n",
    "schema = \"dw\"\n",
    "catalog = \"bronze\"\n"
   ]
  },
  {
   "cell_type": "code",
   "execution_count": 0,
   "metadata": {
    "application/vnd.databricks.v1+cell": {
     "cellMetadata": {
      "byteLimit": 2048000,
      "rowLimit": 10000
     },
     "inputWidgets": {},
     "nuid": "0fc5a69d-9532-409e-9ebf-58668933fe67",
     "showTitle": true,
     "tableResultSettingsMap": {},
     "title": "INGESTÃO FULL LOAD"
    }
   },
   "outputs": [],
   "source": [
    "if not spark.catalog.tableExists(f\"{catalog}.{schema}.{tabela}\"):\n",
    "\n",
    "        print(\"Tabela não existente, criando.\")\n",
    "\n",
    "        df_full = spark.read.format(\"delta\").table(f\"raw.db.{tabela}\")\n",
    "\n",
    "        (df_full.coalesce(1)\n",
    "                .write\n",
    "                .format(\"delta\")\n",
    "                .mode(\"overwrite\")\n",
    "                .option(\"delta.enableChangeDataFeed\", \"true\")\n",
    "                .saveAsTable(f\"{catalog}.{schema}.{tabela}\"))\n",
    "else:\n",
    "        print(\"Tabela já existente, ignorando FULL LOAD\")"
   ]
  },
  {
   "cell_type": "code",
   "execution_count": 0,
   "metadata": {
    "application/vnd.databricks.v1+cell": {
     "cellMetadata": {
      "byteLimit": 2048000,
      "rowLimit": 10000
     },
     "inputWidgets": {},
     "nuid": "5900bfcd-d7cc-4879-a417-db5288f8dcb1",
     "showTitle": true,
     "tableResultSettingsMap": {},
     "title": "LEITURA CDC"
    }
   },
   "outputs": [],
   "source": [
    "(spark.read\n",
    "      .format(\"delta\")\n",
    "      .option(\"readChangeFeed\", \"true\")\n",
    "      .option(\"startingVersion\", 0)  # começa do início\n",
    "      .table(f\"raw.db.{tabela}\")\n",
    "      .createOrReplaceTempView(f\"{tabela}_cdc\")\n",
    "      )\n",
    "\n",
    "query = f'''\n",
    "SELECT * FROM {tabela}_cdc\n",
    "WHERE _change_type <> 'update_preimage'\n",
    "QUALIFY ROW_NUMBER() OVER (PARTITION BY Simbolo ORDER BY _commit_timestamp DESC, _commit_version DESC) = 1;\n",
    "'''\n",
    "df_cotacoes_cdc = spark.sql(query)\n",
    "#df_cotacoes_cdc.display()"
   ]
  },
  {
   "cell_type": "code",
   "execution_count": 0,
   "metadata": {
    "application/vnd.databricks.v1+cell": {
     "cellMetadata": {
      "byteLimit": 2048000,
      "rowLimit": 10000
     },
     "inputWidgets": {},
     "nuid": "8bff9571-8784-49ab-8a92-5b54375369a8",
     "showTitle": true,
     "tableResultSettingsMap": {},
     "title": "ESCRITA CDC"
    }
   },
   "outputs": [],
   "source": [
    "bronze = delta.DeltaTable.forName(spark, f\"{catalog}.{schema}.{tabela}\")\n",
    "\n",
    "#UPSERT\n",
    "(bronze.alias(\"b\")\n",
    "        .merge(df_cotacoes_cdc.alias(\"c\"),\"b.Simbolo = c.Simbolo\")\n",
    "        .whenMatchedDelete(condition = \"c._change_type = 'delete'\")\n",
    "        .whenMatchedUpdateAll(condition = \"c._change_type = 'update_postimage'\")\n",
    "        .whenNotMatchedInsertAll(condition = \"c._change_type = 'insert' OR c._change_type = 'update_postimage'\")  \n",
    "        .execute()\n",
    ")\n",
    "    "
   ]
  }
 ],
 "metadata": {
  "application/vnd.databricks.v1+notebook": {
   "computePreferences": null,
   "dashboards": [],
   "environmentMetadata": {
    "base_environment": "",
    "environment_version": "3"
   },
   "inputWidgetPreferences": null,
   "language": "python",
   "notebookMetadata": {
    "mostRecentlyExecutedCommandWithImplicitDF": {
     "commandId": 7901972089961355,
     "dataframes": [
      "_sqldf"
     ]
    },
    "pythonIndentUnit": 4
   },
   "notebookName": "ingestao",
   "widgets": {}
  },
  "language_info": {
   "name": "python"
  }
 },
 "nbformat": 4,
 "nbformat_minor": 0
}
