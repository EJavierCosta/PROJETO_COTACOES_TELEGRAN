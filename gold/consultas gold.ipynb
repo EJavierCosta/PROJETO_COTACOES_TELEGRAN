{
 "cells": [
  {
   "cell_type": "code",
   "execution_count": 0,
   "metadata": {
    "application/vnd.databricks.v1+cell": {
     "cellMetadata": {
      "byteLimit": 2048000,
      "implicitDf": true,
      "rowLimit": 10000
     },
     "inputWidgets": {},
     "nuid": "9ea7c8e3-8aba-4dae-94ee-97a874f34da1",
     "showTitle": false,
     "tableResultSettingsMap": {},
     "title": ""
    }
   },
   "outputs": [],
   "source": [
    "%sql\n",
    "SELECT * FROM prod.cotacoes_gold.cotacoes_medias"
   ]
  },
  {
   "cell_type": "code",
   "execution_count": 0,
   "metadata": {
    "application/vnd.databricks.v1+cell": {
     "cellMetadata": {
      "byteLimit": 2048000,
      "implicitDf": true,
      "rowLimit": 10000
     },
     "inputWidgets": {},
     "nuid": "6b834aed-ed45-412e-ba30-2688430896d3",
     "showTitle": false,
     "tableResultSettingsMap": {},
     "title": ""
    }
   },
   "outputs": [],
   "source": [
    "%sql\n",
    "SELECT \n",
    "    TIKER,\n",
    "    ROUND(AVG(CASE WHEN DATA >= DATE_SUB(current_date(), 90) THEN PRECO END), 2) AS media_90dias,\n",
    "    ROUND(AVG(CASE WHEN DATA >= DATE_SUB(current_date(), 30) THEN PRECO END), 2) AS media_30dias,\n",
    "    ROUND(AVG(CASE WHEN DATA >= DATE_SUB(current_date(), 7)  THEN PRECO END), 2) AS media_7dias\n",
    "FROM prod.cotacoes_silver.hist_cotacoes\n",
    "GROUP BY TIKER\n",
    "ORDER BY TIKER;"
   ]
  },
  {
   "cell_type": "code",
   "execution_count": 0,
   "metadata": {
    "application/vnd.databricks.v1+cell": {
     "cellMetadata": {
      "byteLimit": 2048000,
      "implicitDf": true,
      "rowLimit": 10000
     },
     "inputWidgets": {},
     "nuid": "d8dffc74-97ba-4090-b6be-f734c1ad9202",
     "showTitle": false,
     "tableResultSettingsMap": {},
     "title": ""
    }
   },
   "outputs": [],
   "source": [
    "%sql\n",
    "SELECT\n",
    "    m.TIKER,\n",
    "    p.PRECO AS preco_atual,\n",
    "    ROUND(((p.PRECO - m.media_7dias) / m.media_7dias) * 100, 2) AS variacao_percent_7d,\n",
    "    ROUND(((p.PRECO - m.media_30dias) / m.media_30dias) * 100, 2) AS variacao_percent_30d,\n",
    "    ROUND(((p.PRECO - m.media_90dias) / m.media_90dias) * 100, 2) AS variacao_percent_90d\n",
    "FROM\n",
    "    (\n",
    "        SELECT \n",
    "            TIKER,\n",
    "            ROUND(AVG(CASE WHEN DATA >= DATE_SUB(current_date(), 90) THEN PRECO END), 2) AS media_90dias,\n",
    "            ROUND(AVG(CASE WHEN DATA >= DATE_SUB(current_date(), 30) THEN PRECO END), 2) AS media_30dias,\n",
    "            ROUND(AVG(CASE WHEN DATA >= DATE_SUB(current_date(), 7)  THEN PRECO END), 2) AS media_7dias\n",
    "        FROM prod.cotacoes_silver.hist_cotacoes\n",
    "        GROUP BY TIKER\n",
    "    ) AS m\n",
    "JOIN\n",
    "    prod.cotacoes_silver.cotacoes AS p ON m.TIKER = p.TIKER\n",
    "ORDER BY\n",
    "    m.TIKER;"
   ]
  }
 ],
 "metadata": {
  "application/vnd.databricks.v1+notebook": {
   "computePreferences": null,
   "dashboards": [],
   "environmentMetadata": {
    "base_environment": "",
    "environment_version": "3"
   },
   "inputWidgetPreferences": null,
   "language": "python",
   "notebookMetadata": {
    "mostRecentlyExecutedCommandWithImplicitDF": {
     "commandId": 6437877256443498,
     "dataframes": [
      "_sqldf"
     ]
    },
    "pythonIndentUnit": 4
   },
   "notebookName": "consultas gold",
   "widgets": {}
  },
  "language_info": {
   "name": "python"
  }
 },
 "nbformat": 4,
 "nbformat_minor": 0
}
