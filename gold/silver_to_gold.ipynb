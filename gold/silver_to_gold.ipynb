{
 "cells": [
  {
   "cell_type": "code",
   "execution_count": 0,
   "metadata": {
    "application/vnd.databricks.v1+cell": {
     "cellMetadata": {
      "byteLimit": 2048000,
      "rowLimit": 10000
     },
     "inputWidgets": {},
     "nuid": "31a97b2d-cd6f-4467-84c2-fc18bedbad5e",
     "showTitle": false,
     "tableResultSettingsMap": {},
     "title": ""
    }
   },
   "outputs": [],
   "source": [
    "import sys\n",
    "sys.path.insert(0, \"../lib/\")\n",
    "import utils\n",
    "\n",
    "\n",
    "tabela = dbutils.widgets.get(\"tabela\")\n",
    "#tabela =\"cotacoes_medias\"\n",
    "schema = \"cotacoes_gold\"\n",
    "catalog = \"prod\"\n",
    "checkpointpath = f\"/Volumes/transacional/cotacoes_db/checkpoint/checkpoint_gold_{tabela}\"\n",
    "path_origem = f\"prod.cotacoes_silver.{tabela}\"\n",
    "query = utils.import_query(f\"{tabela}.sql\")\n",
    "(spark.sql(query)\n",
    "        .writeTo(f\"{catalog}.{schema}.{tabela}\")   \n",
    "        .tableProperty(\"delta.autoOptimize.optimizeWrite\", \"true\")\n",
    "        .tableProperty(\"delta.autoOptimize.autoCompact\", \"true\")\n",
    "        .tableProperty(\"delta.enableChangeDataFeed\", \"true\")\n",
    "        .using(\"delta\") \n",
    "        .createOrReplace()\n",
    "        )"
   ]
  }
 ],
 "metadata": {
  "application/vnd.databricks.v1+notebook": {
   "computePreferences": null,
   "dashboards": [],
   "environmentMetadata": {
    "base_environment": "",
    "environment_version": "3"
   },
   "inputWidgetPreferences": null,
   "language": "python",
   "notebookMetadata": {
    "pythonIndentUnit": 4
   },
   "notebookName": "silver_to_gold",
   "widgets": {}
  },
  "language_info": {
   "name": "python"
  }
 },
 "nbformat": 4,
 "nbformat_minor": 0
}
