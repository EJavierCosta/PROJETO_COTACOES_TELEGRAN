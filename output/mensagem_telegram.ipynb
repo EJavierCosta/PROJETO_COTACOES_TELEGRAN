{
 "cells": [
  {
   "cell_type": "code",
   "execution_count": 0,
   "metadata": {
    "application/vnd.databricks.v1+cell": {
     "cellMetadata": {
      "byteLimit": 2048000,
      "rowLimit": 10000
     },
     "inputWidgets": {},
     "nuid": "67b7fc44-555b-46d9-9836-442366fd2558",
     "showTitle": false,
     "tableResultSettingsMap": {},
     "title": ""
    }
   },
   "outputs": [],
   "source": [
    "import sys\n",
    "sys.path.insert(0, \"../lib/\")\n",
    "import utils\n",
    "\n",
    "BOT_TOKEN = dbutils.secrets.get(scope=\"meu-escopo\", key=\"bot_token\")\n",
    "CHAT_ID = dbutils.secrets.get(scope=\"meu-escopo\", key=\"chat_id\")\n",
    "\n",
    "MENSAGEM = \"*📊 Relatório de Cotações*\\n\"\n",
    "MENSAGEM += \"\\n\"  \n",
    "MENSAGEM += \"Ticker | 90d   | 30d   | 7d\\n\"\n",
    "\n",
    "\n",
    "df = spark.sql(\"\"\"\n",
    "    SELECT *\n",
    "    FROM prod.cotacoes_gold.cotacoes_medias\n",
    "    \"\"\")\n",
    "resultados = df.collect()\n",
    "for row in resultados:\n",
    "    MENSAGEM += f\"{row['TIKER']:<6} | {row['media_90dias']:<5} | {row['media_30dias']:<5} | {row['media_7dias']:<5}\\n\"\n",
    "\n",
    "MENSAGEM += \"\\n\"\n",
    "MENSAGEM += \"*📊 Variações Percentuais*\\n\"\n",
    "MENSAGEM += \"\\n\"\n",
    "MENSAGEM += \"Ticker | Preço | Var 7d | Var 30d | Var 90d\\n\"\n",
    "\n",
    "df_var = spark.sql(\"\"\"\n",
    "    SELECT *\n",
    "    FROM prod.cotacoes_gold.cotacoes_variacoes\n",
    "\"\"\")\n",
    "resultados_var = df_var.collect()\n",
    "for row in resultados_var:\n",
    "    MENSAGEM += f\"{row['TIKER']:<6} | {row['preco_atual']:<5} | {row['variacao_percent_7d']:<6} | {row['variacao_percent_30d']:<7} | {row['variacao_percent_90d']:<6}\\n\"\n",
    "\n",
    "utils.send_telegram_message(BOT_TOKEN, CHAT_ID, MENSAGEM)"
   ]
  }
 ],
 "metadata": {
  "application/vnd.databricks.v1+notebook": {
   "computePreferences": null,
   "dashboards": [],
   "environmentMetadata": {
    "base_environment": "",
    "environment_version": "3"
   },
   "inputWidgetPreferences": null,
   "language": "python",
   "notebookMetadata": {
    "pythonIndentUnit": 4
   },
   "notebookName": "mensagem_telegram",
   "widgets": {}
  },
  "language_info": {
   "name": "python"
  }
 },
 "nbformat": 4,
 "nbformat_minor": 0
}
