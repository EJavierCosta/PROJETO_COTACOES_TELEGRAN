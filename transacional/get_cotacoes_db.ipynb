{
 "cells": [
  {
   "cell_type": "code",
   "execution_count": 0,
   "metadata": {
    "application/vnd.databricks.v1+cell": {
     "cellMetadata": {
      "byteLimit": 2048000,
      "rowLimit": 10000
     },
     "inputWidgets": {},
     "nuid": "09a1c54d-2272-4bd8-85e0-d71aae5facf0",
     "showTitle": false,
     "tableResultSettingsMap": {},
     "title": ""
    }
   },
   "outputs": [],
   "source": [
    "import requests\n",
    "import os\n",
    "from pyspark.sql.types import StructType, StructField, StringType, DoubleType, LongType\n",
    "from pyspark.sql.functions import to_timestamp, col\n",
    "import delta\n",
    "\n",
    "token = dbutils.secrets.get(scope=\"meu-escopo\", key=\"token_brapi\")\n",
    "tickers = [\"UNIP6\", \"PETR4\", \"VALE3\", \"ITUB4\", \"BBAS3\", \"BBDC4\", \"ITSA4\", \"RANI3\", \"EGIE3\", \"PRIO3\",\"BRAV3\", \"CMIG4\"]\n",
    "schema = StructType([StructField(\"Simbolo\", StringType(), False),\n",
    "                     StructField(\"Nome\", StringType(), True),\n",
    "                     StructField(\"Moeda\", StringType(), True),\n",
    "                     StructField(\"Fechamento_Anterior\", DoubleType(), True),\n",
    "                     StructField(\"Cotacao\", DoubleType(), True),\n",
    "                     StructField(\"Intervalo_52_Semanas\", StringType(), True),\n",
    "                     StructField(\"Data\", StringType(), True)\n",
    "                     ])\n",
    "\n",
    "for ticker in tickers:\n",
    "    #api brabi\n",
    "    url = f\"https://brapi.dev/api/quote/{ticker}?token={token}\"\n",
    "   \n",
    "    response = requests.get(url,params={\"range\": \"1d\", \"interval\": \"1d\"})\n",
    "\n",
    "    if response.status_code == 200:\n",
    "        dados_brapi = response.json()[\"results\"][0]\n",
    "   \n",
    "        # Cria o DataFrame Spark\n",
    "        data = [(dados_brapi[\"symbol\"],\n",
    "                dados_brapi[\"shortName\"],\n",
    "                dados_brapi[\"currency\"],\n",
    "                dados_brapi[\"regularMarketPreviousClose\"],\n",
    "                dados_brapi[\"regularMarketPrice\"],\n",
    "                dados_brapi[\"fiftyTwoWeekRange\"],\n",
    "                dados_brapi[\"regularMarketTime\"])]\n",
    "\n",
    "        df_temp = spark.createDataFrame(data, schema)\n",
    "        df_spark = df_temp.withColumn(\"Data\", to_timestamp(col(\"Data\")))\n",
    "        \n",
    "        if spark.catalog.tableExists(\"transacional.cotacoes_db.cotacoes\"):\n",
    "\n",
    "            transacional_cotacoes = delta.DeltaTable.forName(spark, \"transacional.cotacoes_db.cotacoes\")\n",
    "            \n",
    "            (transacional_cotacoes.alias(\"r\")\n",
    "                        .merge(df_spark.alias(\"s\"),\"r.Simbolo = s.Simbolo\")\n",
    "                        .whenMatchedUpdateAll() # Se encontrar o Simbolo, atualiza todas as colunas\n",
    "                        .whenNotMatchedInsertAll() # Se não encontrar, insere a nova linha\n",
    "                        .execute()\n",
    "                        )\n",
    "        else:\n",
    "            (df_spark.writeTo(\"transacional.cotacoes_db.cotacoes\")\n",
    "                     .tableProperty(\"delta.autoOptimize.optimizeWrite\", \"true\")\n",
    "                     .tableProperty(\"delta.autoOptimize.autoCompact\", \"true\")\n",
    "                     .tableProperty(\"delta.enableChangeDataFeed\", \"true\")\n",
    "                     .using(\"delta\")\n",
    "                     .create()\n",
    "                     )\n",
    "        \n",
    "        #print(f\"Coleta realizada com sucesso, status code: {response.status_code}\")\n",
    "        #display(df_spark)\n",
    "    \n",
    "    else:\n",
    "        print(f\"Erro: {response.status_code}\")"
   ]
  }
 ],
 "metadata": {
  "application/vnd.databricks.v1+notebook": {
   "computePreferences": null,
   "dashboards": [],
   "environmentMetadata": {
    "base_environment": "",
    "environment_version": "3"
   },
   "inputWidgetPreferences": null,
   "language": "python",
   "notebookMetadata": {
    "pythonIndentUnit": 4
   },
   "notebookName": "get_cotacoes_db",
   "widgets": {}
  },
  "language_info": {
   "name": "python"
  }
 },
 "nbformat": 4,
 "nbformat_minor": 0
}
